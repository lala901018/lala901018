{
  "nbformat": 4,
  "nbformat_minor": 0,
  "metadata": {
    "colab": {
      "provenance": [],
      "authorship_tag": "ABX9TyOsJWbL1sKQ0EkLrmuhIk4g",
      "include_colab_link": true
    },
    "kernelspec": {
      "name": "python3",
      "display_name": "Python 3"
    },
    "language_info": {
      "name": "python"
    }
  },
  "cells": [
    {
      "cell_type": "markdown",
      "metadata": {
        "id": "view-in-github",
        "colab_type": "text"
      },
      "source": [
        "<a href=\"https://colab.research.google.com/github/lala901018/lala901018/blob/main/untitled2.ipynb\" target=\"_parent\"><img src=\"https://colab.research.google.com/assets/colab-badge.svg\" alt=\"Open In Colab\"/></a>"
      ]
    },
    {
      "cell_type": "code",
      "source": [
        "!pip install ColabTurtlePlus"
      ],
      "metadata": {
        "colab": {
          "base_uri": "https://localhost:8080/"
        },
        "id": "KIAdsMLMA1vm",
        "outputId": "234b38cd-8662-4344-b32c-bbf9f1fb1aa6"
      },
      "execution_count": null,
      "outputs": [
        {
          "output_type": "stream",
          "name": "stdout",
          "text": [
            "Collecting ColabTurtlePlus\n",
            "  Downloading ColabTurtlePlus-2.0.1-py3-none-any.whl (31 kB)\n",
            "Installing collected packages: ColabTurtlePlus\n",
            "Successfully installed ColabTurtlePlus-2.0.1\n"
          ]
        }
      ]
    },
    {
      "cell_type": "code",
      "source": [
        "from ColabTurtlePlus.Turtle import *"
      ],
      "metadata": {
        "colab": {
          "base_uri": "https://localhost:8080/"
        },
        "id": "tWxC53zjA4ZG",
        "outputId": "7f7d2904-ab78-419d-8fbf-2a21acca10d4"
      },
      "execution_count": null,
      "outputs": [
        {
          "output_type": "stream",
          "name": "stdout",
          "text": [
            "Put clearscreen() as the first line in a cell (after the import command) to re-run turtle commands in the cell\n"
          ]
        }
      ]
    },
    {
      "cell_type": "code",
      "source": [
        "from ColabTurtlePlus.Turtle import *\n",
        "clearscreen()\n",
        "setup(500,300)\n",
        "T = Turtle()\n",
        "T.color('blue', 'black')\n",
        "T.speed(13)\n",
        "T.width(1.5)\n",
        "S = T.clone()\n",
        "T.fillrule(\"evenodd\")\n",
        "S.fillrule(\"nonzero\")\n",
        "x0 = -225\n",
        "T.jumpto(x0,0)\n",
        "S.jumpto(25,0)\n",
        "T.begin_fill()\n",
        "S.begin_fill()\n",
        "while True:\n",
        "    T.forward(200)\n",
        "    T.left(170)\n",
        "    S.forward(200)\n",
        "    S.left(170)\n",
        "    if (T.getx()-x0)**2 + T.gety()**2 < 1:\n",
        "        break\n",
        "T.end_fill()\n",
        "S.end_fill()"
      ],
      "metadata": {
        "colab": {
          "base_uri": "https://localhost:8080/",
          "height": 321
        },
        "id": "H9MWbr_RA6BX",
        "outputId": "95eb8bf2-9bca-4e1e-fc9e-19322f21b64a"
      },
      "execution_count": null,
      "outputs": [
        {
          "output_type": "display_data",
          "data": {
            "text/plain": [
              "<IPython.core.display.HTML object>"
            ],
            "text/html": [
              "\n",
              "      <svg width=\"500\" height=\"300\">  \n",
              "        <rect width=\"100%\" height=\"100%\" style=\"fill:white;stroke:;stroke-width:1\"/>\n",
              "        \n",
              "        \n",
              "        <path fill-rule=\"evenodd\" fill-opacity=\"1\" d=\"M 25.0 150.0  L 225.0 150.0  L 28.038 115.27  L 215.977 183.674  L 42.772 83.674  L 195.981 212.232  L 67.423 59.023  L 167.423 232.228  L 99.019 44.289  L 133.749 241.251  L 133.749 41.251  L 99.019 238.213  L 167.423 50.274  L 67.423 223.479  L 195.981 70.27  L 42.772 198.828  L 215.977 98.828  L 28.038 167.232  L 225.0 132.502  L 25.0 132.502  L 221.962 167.232  L 34.023 98.828  L 207.228 198.828  L 54.019 70.27  L 182.577 223.479  L 82.577 50.274  L 150.981 238.213  L 116.251 41.251  L 116.251 241.251  L 150.981 44.289  L 82.577 232.228  L 182.577 59.023  L 54.019 212.232  L 207.228 83.674  L 34.023 183.674  L 221.962 115.27  L 25.0 150.0 \" stroke-linecap=\"round\" style=\"stroke:blue;stroke-width:1.5\" fill=\"black\" /><path fill-rule=\"nonzero\" fill-opacity=\"1\" d=\"M 275.0 150.0  L 475.0 150.0  L 278.038 115.27  L 465.977 183.674  L 292.772 83.674  L 445.981 212.232  L 317.423 59.023  L 417.423 232.228  L 349.019 44.289  L 383.749 241.251  L 383.749 41.251  L 349.019 238.213  L 417.423 50.274  L 317.423 223.479  L 445.981 70.27  L 292.772 198.828  L 465.977 98.828  L 278.038 167.232  L 475.0 132.502  L 275.0 132.502  L 471.962 167.232  L 284.023 98.828  L 457.228 198.828  L 304.019 70.27  L 432.577 223.479  L 332.577 50.274  L 400.981 238.213  L 366.251 41.251  L 366.251 241.251  L 400.981 44.289  L 332.577 232.228  L 432.577 59.023  L 304.019 212.232  L 457.228 83.674  L 284.023 183.674  L 471.962 115.27  L 275.0 150.0 \" stroke-linecap=\"round\" style=\"stroke:blue;stroke-width:1.5\" fill=\"black\" />\n",
              "        \n",
              "        \n",
              "        <g id=\"classic\" visibility=\"visible\" transform=\"rotate(-90,25.0,150.0) translate(25.0, 150.0)\">\n",
              "<polygon points=\"-5,-4.5 0,-2.5 5,-4.5 0,4.5\" transform=\"skewX(0) scale(1,1)\" style=\"stroke:blue;fill:black;stroke-width:1\" />\n",
              "</g><g id=\"classic\" visibility=\"visible\" transform=\"rotate(-90,275.0,150.0) translate(275.0, 150.0)\">\n",
              "<polygon points=\"-5,-4.5 0,-2.5 5,-4.5 0,4.5\" transform=\"skewX(0.0) scale(1,1)\" style=\"stroke:blue;fill:black;stroke-width:1\" />\n",
              "</g>\n",
              "      </svg>\n",
              "    "
            ]
          },
          "metadata": {}
        }
      ]
    }
  ]
}
